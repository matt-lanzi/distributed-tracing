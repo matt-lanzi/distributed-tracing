{
 "cells": [
  {
   "cell_type": "code",
   "execution_count": null,
   "id": "fb737c09",
   "metadata": {},
   "outputs": [
    {
     "name": "stdout",
     "output_type": "stream",
     "text": [
      "   system_id           checkpoint_id            timestamp   status  \\\n",
      "0       bcis       BCIS_CHECKPOINT_3  2025-05-04T11:17:37  FAILURE   \n",
      "1        cmf        CMF_CHECKPOINT_2  2025-05-04T11:17:38  SUCCESS   \n",
      "2    fedebom    FEDEBOM_CHECKPOINT_3  2025-05-04T11:17:38  SUCCESS   \n",
      "3  reporting  REPORTING_CHECKPOINT_3  2025-05-04T11:17:38  SUCCESS   \n",
      "4        cmf        CMF_CHECKPOINT_2  2025-05-04T11:17:40  FAILURE   \n",
      "\n",
      "                         correlation_id         failure_reason  \n",
      "0  12b35e3e-dc3c-4a5c-83d5-d22496ed75cb  BCIS_FAILURE_REASON_2  \n",
      "1  b1c165be-901c-451f-86c2-2c97a4148ed2                   None  \n",
      "2  ca8bf814-27c2-475d-80d4-0ffd6c1eb24e                   None  \n",
      "3  a57ecd3f-522a-4501-b921-518bc550ccfa                   None  \n",
      "4  94c95fab-af33-44fc-b389-8f488650c18c                   None  \n"
     ]
    }
   ],
   "source": [
    "import sqlite3\n",
    "import pandas as pd\n",
    "\n",
    "# Connect to the SQLite DB\n",
    "conn = sqlite3.connect('db/event_history.db')\n",
    "\n",
    "# Load the table into a DataFrame\n",
    "df = pd.read_sql_query(\"SELECT * FROM events\", conn)\n",
    "\n",
    "# Optional: Preview the data\n",
    "print(df.head())\n",
    "\n",
    "conn.close()"
   ]
  },
  {
   "cell_type": "code",
   "execution_count": 5,
   "id": "c7687504",
   "metadata": {},
   "outputs": [],
   "source": [
    "from typing import List\n",
    "class Solution:\n",
    "    def count_pairs(self, nums, max_dist):\n",
    "        count = 0\n",
    "        left = 0\n",
    "        for right in range(len(nums)):\n",
    "            while nums[right] - nums[left] > max_dist:\n",
    "                left += 1\n",
    "            count += right - left\n",
    "        return count\n",
    "\n",
    "    def smallestDistancePair(self, nums: List[int], k: int) -> int:\n",
    "        nums.sort()\n",
    "        low = 0\n",
    "        high = nums[-1] - nums[0]\n",
    "\n",
    "        while low < high:\n",
    "            mid = (low + high) // 2\n",
    "            if self.count_pairs(nums, mid) >= k:\n",
    "                high = mid\n",
    "            else:\n",
    "                low = mid + 1\n",
    "\n",
    "        return low\n"
   ]
  },
  {
   "cell_type": "code",
   "execution_count": 6,
   "id": "5f62aaa5",
   "metadata": {},
   "outputs": [
    {
     "data": {
      "text/plain": [
       "3"
      ]
     },
     "execution_count": 6,
     "metadata": {},
     "output_type": "execute_result"
    }
   ],
   "source": [
    "Solution().smallestDistancePair([1, 3,6,7,9], 5)"
   ]
  },
  {
   "cell_type": "code",
   "execution_count": 9,
   "id": "7c47e8cf",
   "metadata": {},
   "outputs": [],
   "source": [
    "nums = [1, 3, 3, 5, 6]\n",
    "target = 7"
   ]
  },
  {
   "cell_type": "code",
   "execution_count": null,
   "id": "38fc546c",
   "metadata": {},
   "outputs": [
    {
     "data": {
      "text/plain": [
       "5"
      ]
     },
     "execution_count": 11,
     "metadata": {},
     "output_type": "execute_result"
    }
   ],
   "source": [
    "def right_most_insertion(nums, target):\n",
    "    low,high = 0, len(nums)\n",
    "    while low < high:\n",
    "        mid = (low + high) // 2\n",
    "        if nums[mid] <= target:\n",
    "            low = mid + 1\n",
    "        else:\n",
    "            high = mid\n",
    "    return low\n",
    "\n",
    "right_most_insertion(nums, target)"
   ]
  },
  {
   "cell_type": "code",
   "execution_count": 14,
   "id": "e3e97cba",
   "metadata": {},
   "outputs": [
    {
     "data": {
      "text/plain": [
       "1"
      ]
     },
     "execution_count": 14,
     "metadata": {},
     "output_type": "execute_result"
    }
   ],
   "source": [
    "def left_most_insertion(nums, target):\n",
    "    low,high = 0, len(nums)\n",
    "    while low < high:\n",
    "        mid = (low + high) // 2\n",
    "        if nums[mid] >= target:\n",
    "            high = mid\n",
    "        else:\n",
    "            low = mid + 1\n",
    "    return low\n",
    "\n",
    "left_most_insertion(nums, 3)"
   ]
  },
  {
   "cell_type": "code",
   "execution_count": null,
   "id": "67908dd6",
   "metadata": {},
   "outputs": [],
   "source": [
    "# Re-create the events table using the provided schema for demonstration\n",
    "conn = sqlite3.connect(\"/mnt/data/traceability.db\")\n",
    "cursor = conn.cursor()\n",
    "\n",
    "# Drop if exists to avoid duplication\n",
    "cursor.execute(\"DROP TABLE IF EXISTS events\")\n",
    "\n",
    "# Create the 'events' table with the provided schema\n",
    "cursor.execute(\"\"\"\n",
    "CREATE TABLE events (\n",
    "    system_id TEXT,\n",
    "    checkpoint_id TEXT,\n",
    "    timestamp TEXT,\n",
    "    status TEXT,\n",
    "    correlation_id TEXT,\n",
    "    failure_reason TEXT\n",
    ")\n",
    "\"\"\")\n",
    "\n",
    "conn.commit()\n",
    "\n",
    "# Now that the schema is in place, attempt to create the spans table again\n",
    "cursor.execute(\"DROP TABLE IF EXISTS spans\")\n",
    "\n",
    "cursor.execute(\"\"\"\n",
    "CREATE TABLE spans AS\n",
    "SELECT\n",
    "    correlation_id,\n",
    "    system_id,\n",
    "    MIN(timestamp) AS start_time,\n",
    "    MAX(timestamp) AS end_time,\n",
    "    CAST((julianday(MAX(timestamp)) - julianday(MIN(timestamp))) * 86400000 AS INTEGER) AS duration_ms,\n",
    "    CASE\n",
    "        WHEN SUM(CASE WHEN status = 'FAILURE' THEN 1 ELSE 0 END) > 0 THEN 'FAILURE'\n",
    "        ELSE 'SUCCESS'\n",
    "    END AS status\n",
    "FROM events\n",
    "GROUP BY correlation_id, system_id\n",
    "\"\"\")\n",
    "\n",
    "conn.commit()\n",
    "\n",
    "# Load spans table for display (will be empty since no event data exists yet)\n",
    "spans_df = pd.read_sql_query(\"SELECT * FROM spans ORDER BY correlation_id, system_id\", conn)\n",
    "conn.close()\n",
    "\n",
    "import ace_tools as tools; tools.display_dataframe_to_user(name=\"Materialized Spans Table\", dataframe=spans_df)\n"
   ]
  }
 ],
 "metadata": {
  "kernelspec": {
   "display_name": ".venv",
   "language": "python",
   "name": "python3"
  },
  "language_info": {
   "codemirror_mode": {
    "name": "ipython",
    "version": 3
   },
   "file_extension": ".py",
   "mimetype": "text/x-python",
   "name": "python",
   "nbconvert_exporter": "python",
   "pygments_lexer": "ipython3",
   "version": "3.9.8"
  }
 },
 "nbformat": 4,
 "nbformat_minor": 5
}
